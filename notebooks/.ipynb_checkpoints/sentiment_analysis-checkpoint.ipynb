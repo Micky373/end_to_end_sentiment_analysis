{
 "cells": [
  {
   "cell_type": "code",
   "execution_count": 1,
   "id": "9688a237",
   "metadata": {},
   "outputs": [],
   "source": [
    "# Importing all the neccesary libraries for the sentiment analysis\n",
    "\n",
    "from textblob import TextBlob, Word\n",
    "import nltk"
   ]
  },
  {
   "cell_type": "code",
   "execution_count": 3,
   "id": "6d008a43",
   "metadata": {},
   "outputs": [
    {
     "name": "stdout",
     "output_type": "stream",
     "text": [
      "[nltk_data] Downloading package brown to /home/micky/nltk_data...\n",
      "[nltk_data]   Package brown is already up-to-date!\n",
      "[nltk_data] Downloading package punkt to /home/micky/nltk_data...\n",
      "[nltk_data]   Package punkt is already up-to-date!\n",
      "[nltk_data] Downloading package wordnet to /home/micky/nltk_data...\n",
      "[nltk_data]   Package wordnet is already up-to-date!\n",
      "[nltk_data] Downloading package averaged_perceptron_tagger to\n",
      "[nltk_data]     /home/micky/nltk_data...\n",
      "[nltk_data]   Package averaged_perceptron_tagger is already up-to-\n",
      "[nltk_data]       date!\n",
      "[nltk_data] Downloading package conll2000 to /home/micky/nltk_data...\n",
      "[nltk_data]   Package conll2000 is already up-to-date!\n",
      "[nltk_data] Downloading package movie_reviews to\n",
      "[nltk_data]     /home/micky/nltk_data...\n",
      "[nltk_data]   Package movie_reviews is already up-to-date!\n",
      "Finished.\n"
     ]
    },
    {
     "name": "stderr",
     "output_type": "stream",
     "text": [
      "[nltk_data] Downloading package omw-1.4 to /home/micky/nltk_data...\n",
      "[nltk_data]   Package omw-1.4 is already up-to-date!\n"
     ]
    },
    {
     "data": {
      "text/plain": [
       "True"
      ]
     },
     "execution_count": 3,
     "metadata": {},
     "output_type": "execute_result"
    }
   ],
   "source": [
    "# Installing a usefull package in the text blob and nltk\n",
    "\n",
    "!python -m textblob.download_corpora\n",
    "nltk.download('omw-1.4')"
   ]
  },
  {
   "cell_type": "code",
   "execution_count": 4,
   "id": "83633263",
   "metadata": {},
   "outputs": [],
   "source": [
    "# Initializing some random texts for further analysis later\n",
    "\n",
    "very_positive_text = \"A very good movie.!!!\"\n",
    "very_negative_text = \"In the movie there are multiple actors having a bad act.!!\"\n",
    "neutral_text = \"I have neutral feeling about the book.\"\n",
    "simple_statement = \"Michael is an Arsenal supporter and also a programmer.\"\n",
    "simple_statement_2 = '''I went to the movie store and bought a cd but when I started watching I was very angry \n",
    "                        that I spent huge amount of money'''"
   ]
  },
  {
   "cell_type": "code",
   "execution_count": 5,
   "id": "c2c447d2",
   "metadata": {},
   "outputs": [],
   "source": [
    "# Changing the texts into textblob instances\n",
    "\n",
    "blob_pos = TextBlob(very_positive_text)\n",
    "blob_neg = TextBlob(very_negative_text)\n",
    "blob_neu = TextBlob(neutral_text)\n",
    "blob_micky = TextBlob(simple_statement)\n",
    "blob_random = TextBlob(simple_statement_2)"
   ]
  },
  {
   "cell_type": "code",
   "execution_count": 6,
   "id": "2abc0515",
   "metadata": {},
   "outputs": [
    {
     "name": "stdout",
     "output_type": "stream",
     "text": [
      "Polarity for:  A very good movie.!!!  is  1.0\n",
      "Polarity for:  In the movie there are multiple actors having a bad act.!!  is  -0.5\n",
      "Polarity for:  I have neutral feeling about the book.  is  0.0\n",
      "Polarity for:  Michael is an Arsenal supporter and also a programmer.  is  0.0\n",
      "Polarity for:  I went to the movie store and bought a cd but when I started watching I was very angry \n",
      "                        that I spent huge amount of money  is  -0.11666666666666664\n"
     ]
    }
   ],
   "source": [
    "# Checking out polarity of each texts\n",
    "\n",
    "print('Polarity for: ',very_positive_text, ' is ', blob_pos.sentiment.polarity)\n",
    "print('Polarity for: ',very_negative_text, ' is ', blob_neg.sentiment.polarity)\n",
    "print('Polarity for: ',neutral_text, ' is ', blob_neu.sentiment.polarity)\n",
    "print('Polarity for: ',simple_statement, ' is ', blob_micky.sentiment.polarity)\n",
    "print('Polarity for: ',simple_statement_2, ' is ', blob_random.sentiment.polarity)"
   ]
  },
  {
   "cell_type": "code",
   "execution_count": 7,
   "id": "16c31a72",
   "metadata": {},
   "outputs": [
    {
     "name": "stdout",
     "output_type": "stream",
     "text": [
      "Subjectivity for:  A very good movie.!!!  is  0.7800000000000001\n",
      "Subjectivity for:  In the movie there are multiple actors having a bad act.!!  is  0.3333333333333333\n",
      "Subjectivity for:  I have neutral feeling about the book.  is  0.0\n",
      "Subjectivity for:  Michael is an Arsenal supporter and also a programmer.  is  0.0\n",
      "Subjectivity for:  I went to the movie store and bought a cd but when I started watching I was very angry \n",
      "                        that I spent huge amount of money  is  0.6666666666666666\n"
     ]
    }
   ],
   "source": [
    "# Checking out subjectivity for all the texts initialized above\n",
    "\n",
    "print('Subjectivity for: ',very_positive_text, ' is ', blob_pos.sentiment.subjectivity)\n",
    "print('Subjectivity for: ',very_negative_text, ' is ', blob_neg.sentiment.subjectivity)\n",
    "print('Subjectivity for: ',neutral_text, ' is ', blob_neu.sentiment.subjectivity)\n",
    "print('Subjectivity for: ',simple_statement, ' is ', blob_micky.sentiment.subjectivity)\n",
    "print('Subjectivity for: ',simple_statement_2, ' is ', blob_random.sentiment.subjectivity)"
   ]
  },
  {
   "cell_type": "code",
   "execution_count": 8,
   "id": "474aa091",
   "metadata": {},
   "outputs": [
    {
     "name": "stdout",
     "output_type": "stream",
     "text": [
      "NUmber of words for:  A very good movie.!!!  is  4\n",
      "NUmber of words for:  In the movie there are multiple actors having a bad act.!!  is  11\n",
      "NUmber of words for:  I have neutral feeling about the book.  is  7\n",
      "NUmber of words for:  Michael is an Arsenal supporter and also a programmer.  is  9\n",
      "NUmber of words for:  I went to the movie store and bought a cd but when I started watching I was very angry \n",
      "                        that I spent huge amount of money  is  26\n"
     ]
    }
   ],
   "source": [
    "# Finding the word count for each text\n",
    "\n",
    "print('NUmber of words for: ',very_positive_text, ' is ', len(list(blob_pos.words)))\n",
    "print('NUmber of words for: ',very_negative_text, ' is ', len(list(blob_neg.words)))\n",
    "print('NUmber of words for: ',neutral_text, ' is ', len(list(blob_neu.words)))\n",
    "print('NUmber of words for: ',simple_statement, ' is ', len(list(blob_micky.words)))\n",
    "print('NUmber of words for: ',simple_statement_2, ' is ', len(list(blob_random.words)))"
   ]
  },
  {
   "cell_type": "code",
   "execution_count": 9,
   "id": "9e0c1f25",
   "metadata": {},
   "outputs": [
    {
     "data": {
      "text/plain": [
       "[('In', 'IN'),\n",
       " ('the', 'DT'),\n",
       " ('movie', 'NN'),\n",
       " ('there', 'EX'),\n",
       " ('are', 'VBP'),\n",
       " ('multiple', 'JJ'),\n",
       " ('actors', 'NNS'),\n",
       " ('having', 'VBG'),\n",
       " ('a', 'DT'),\n",
       " ('bad', 'JJ'),\n",
       " ('act', 'NN')]"
      ]
     },
     "execution_count": 9,
     "metadata": {},
     "output_type": "execute_result"
    }
   ],
   "source": [
    "# Finding out the words and their tag for the negetive text\n",
    "# Tag is like finding out if each word is noun,verb,nounphrase or other..\n",
    "\n",
    "blob_neg.tags"
   ]
  },
  {
   "cell_type": "code",
   "execution_count": 10,
   "id": "4640824d",
   "metadata": {},
   "outputs": [
    {
     "name": "stdout",
     "output_type": "stream",
     "text": [
      "actor ||| actors\n"
     ]
    }
   ],
   "source": [
    "# Singularize method in textblob will help us to change plural word into its singular form\n",
    "\n",
    "print(blob_neg.tags[6][0].singularize(),'|||',blob_neg.tags[6][0])"
   ]
  },
  {
   "cell_type": "code",
   "execution_count": 11,
   "id": "ea2b6ff6",
   "metadata": {},
   "outputs": [
    {
     "data": {
      "text/plain": [
       "[('I', 'PRP'),\n",
       " ('went', 'VBD'),\n",
       " ('to', 'TO'),\n",
       " ('the', 'DT'),\n",
       " ('movie', 'NN'),\n",
       " ('store', 'NN'),\n",
       " ('and', 'CC'),\n",
       " ('bought', 'VBD'),\n",
       " ('a', 'DT'),\n",
       " ('cd', 'NN'),\n",
       " ('but', 'CC'),\n",
       " ('when', 'WRB'),\n",
       " ('I', 'PRP'),\n",
       " ('started', 'VBD'),\n",
       " ('watching', 'VBG'),\n",
       " ('I', 'PRP'),\n",
       " ('was', 'VBD'),\n",
       " ('very', 'RB'),\n",
       " ('angry', 'JJ'),\n",
       " ('that', 'IN'),\n",
       " ('I', 'PRP'),\n",
       " ('spent', 'VBD'),\n",
       " ('huge', 'JJ'),\n",
       " ('amount', 'NN'),\n",
       " ('of', 'IN'),\n",
       " ('money', 'NN')]"
      ]
     },
     "execution_count": 11,
     "metadata": {},
     "output_type": "execute_result"
    }
   ],
   "source": [
    "# Finding out the words and their tag for the text in our initial texts\n",
    "\n",
    "blob_random.tags"
   ]
  },
  {
   "cell_type": "code",
   "execution_count": 12,
   "id": "bd64e084",
   "metadata": {},
   "outputs": [
    {
     "name": "stdout",
     "output_type": "stream",
     "text": [
      "The root verb for: went  is  go\n",
      "The root verb for: bought  is  buy\n",
      "The root verb for: started  is  start\n",
      "The root verb for: watching  is  watch\n",
      "The root verb for: spent  is  spend\n"
     ]
    }
   ],
   "source": [
    "# Lemmatize method implementation\n",
    "\n",
    "print('The root verb for:',blob_random.tags[1][0], ' is ',blob_random.tags[1][0].lemmatize('v') )\n",
    "print('The root verb for:',blob_random.tags[7][0], ' is ',blob_random.tags[7][0].lemmatize('v') )\n",
    "print('The root verb for:',blob_random.tags[13][0], ' is ',blob_random.tags[13][0].lemmatize('v') )\n",
    "print('The root verb for:',blob_random.tags[14][0], ' is ',blob_random.tags[14][0].lemmatize('v') )\n",
    "print('The root verb for:',blob_random.tags[21][0], ' is ',blob_random.tags[21][0].lemmatize('v') )"
   ]
  },
  {
   "cell_type": "code",
   "execution_count": 13,
   "id": "575fe535",
   "metadata": {},
   "outputs": [
    {
     "data": {
      "text/plain": [
       "[('Michael', 'NNP'),\n",
       " ('is', 'VBZ'),\n",
       " ('an', 'DT'),\n",
       " ('Arsenal', 'JJ'),\n",
       " ('supporter', 'NN'),\n",
       " ('and', 'CC'),\n",
       " ('also', 'RB'),\n",
       " ('a', 'DT'),\n",
       " ('programmer', 'NN')]"
      ]
     },
     "execution_count": 13,
     "metadata": {},
     "output_type": "execute_result"
    }
   ],
   "source": [
    "# Finding out the words and their tag for the text describing me :):):)\n",
    "\n",
    "blob_micky.tags"
   ]
  },
  {
   "cell_type": "code",
   "execution_count": 14,
   "id": "60b4c234",
   "metadata": {},
   "outputs": [
    {
     "data": {
      "text/plain": [
       "['movie', 'store', 'cd', 'amount', 'money']"
      ]
     },
     "execution_count": 14,
     "metadata": {},
     "output_type": "execute_result"
    }
   ],
   "source": [
    "# Listing all the nouns in the text\n",
    "\n",
    "nouns = []\n",
    "for word,tag in blob_random.tags:\n",
    "    if tag == 'NN':\n",
    "        nouns.append(word.lemmatize())\n",
    "nouns"
   ]
  },
  {
   "cell_type": "code",
   "execution_count": 15,
   "id": "4db6364c",
   "metadata": {},
   "outputs": [
    {
     "data": {
      "text/plain": [
       "['supporter', 'programmer']"
      ]
     },
     "execution_count": 15,
     "metadata": {},
     "output_type": "execute_result"
    }
   ],
   "source": [
    "# Listing all the nouns in the text\n",
    "\n",
    "nouns = []\n",
    "for word,tag in blob_micky.tags:\n",
    "    if tag == 'NN':\n",
    "        nouns.append(word.lemmatize())\n",
    "nouns"
   ]
  },
  {
   "cell_type": "code",
   "execution_count": 16,
   "id": "68ffec23",
   "metadata": {},
   "outputs": [
    {
     "name": "stdout",
     "output_type": "stream",
     "text": [
      "['michael', 'arsenal']\n",
      "['movie store', 'huge amount']\n"
     ]
    }
   ],
   "source": [
    "# Listing all the noun_phrases and names using the textblob noun_phrase method\n",
    "\n",
    "print(blob_micky.noun_phrases)\n",
    "print(blob_random.noun_phrases)"
   ]
  }
 ],
 "metadata": {
  "kernelspec": {
   "display_name": "Python 3 (ipykernel)",
   "language": "python",
   "name": "python3"
  },
  "language_info": {
   "codemirror_mode": {
    "name": "ipython",
    "version": 3
   },
   "file_extension": ".py",
   "mimetype": "text/x-python",
   "name": "python",
   "nbconvert_exporter": "python",
   "pygments_lexer": "ipython3",
   "version": "3.9.12"
  }
 },
 "nbformat": 4,
 "nbformat_minor": 5
}
